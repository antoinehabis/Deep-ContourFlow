{
 "cells": [
  {
   "cell_type": "code",
   "execution_count": null,
   "id": "b4a38d53-563f-4433-a6f0-feef2f82d2fe",
   "metadata": {
    "scrolled": false
   },
   "outputs": [],
   "source": [
    "import sys\n",
    "import os\n",
    "from pathlib import Path\n",
    "path_dcf = str(Path(os.path.abspath('.')).resolve().parent)\n",
    "sys.path.append(path_dcf)\n",
    "from algorithms.unsupervised_dcf import DCF\n",
    "from torch_contour.torch_contour import CleanContours\n",
    "import numpy as np\n",
    "import matplotlib.pyplot as plt\n",
    "import os\n",
    "import cv2\n",
    "from utils import define_contour_init\n",
    "import torch"
   ]
  },
  {
   "cell_type": "markdown",
   "id": "0116a3b9",
   "metadata": {},
   "source": [
    "### Choose an image to perform unsupervised DCF"
   ]
  },
  {
   "cell_type": "code",
   "execution_count": null,
   "id": "d2e8235a",
   "metadata": {},
   "outputs": [],
   "source": [
    "filename = \"flower0.jpg\"\n",
    "img = plt.imread(os.path.join(path_dcf,\"images_test_unsupervised_dcf\", filename))\n",
    "shape_origin = img.shape\n",
    "img = cv2.resize(img, (512,512), interpolation = cv2.INTER_AREA).astype(np.int32)\n",
    "tensor = (torch.tensor(np.moveaxis(img,-1,0)[None])/255).cuda()"
   ]
  },
  {
   "cell_type": "markdown",
   "id": "7ac86d50",
   "metadata": {},
   "source": [
    "### Instantiate DCF Unsupervised"
   ]
  },
  {
   "cell_type": "code",
   "execution_count": null,
   "id": "9e487218",
   "metadata": {},
   "outputs": [],
   "source": [
    "####UNSUPERVISED SEGMENTATION SETUP:\n",
    "##### SETUP FOR REAL LIFE IMAGES\n",
    "\n",
    "dcf = DCF(n_epochs = 100,\n",
    "          learning_rate = 100.,\n",
    "          clip = 1e-4,\n",
    "          exponential_decay = 0.999,\n",
    "          thresh = 1e-4,\n",
    "          weights = [1,1/2,1/4,1/8,1/16],\n",
    "          area_force = 0.,\n",
    "          sigma=1e-10\n",
    "          )"
   ]
  },
  {
   "cell_type": "markdown",
   "id": "8aa3aabd",
   "metadata": {},
   "source": [
    "### Define initial contour and predict"
   ]
  },
  {
   "cell_type": "code",
   "execution_count": null,
   "id": "d9a6c215",
   "metadata": {},
   "outputs": [],
   "source": [
    "contour_init, mask = define_contour_init(img,center=[250,250], axes = [250,250], angle = 0)\n",
    "shape = img.shape[:-1]\n",
    "x = contour_init/np.array(shape)\n",
    "c = CleanContours()\n",
    "contour_init = c.interpolate(x,100).clip(0,1)\n",
    "contour_init = torch.tensor(contour_init)[None,None].cuda()\n",
    "contours, energy = dcf.predict(tensor,contour_init)"
   ]
  },
  {
   "cell_type": "markdown",
   "id": "307a4523",
   "metadata": {},
   "source": [
    "### Show the result of the evolution of the contour "
   ]
  },
  {
   "cell_type": "code",
   "execution_count": null,
   "id": "1bcb8327",
   "metadata": {},
   "outputs": [],
   "source": [
    "contour_to_display = (np.expand_dims(contours[-1,0,0], 1)).astype(int)\n",
    "new_img = cv2.drawContours(\n",
    "    (((img / np.max(img)) * 255).astype(np.uint8)).copy(),\n",
    "    [contour_to_display],\n",
    "    0,\n",
    "    color=1,\n",
    "    thickness=4,\n",
    ")\n",
    "\n",
    "plt.imshow(new_img)\n",
    "plt.show()"
   ]
  },
  {
   "cell_type": "markdown",
   "id": "a5fe6301",
   "metadata": {},
   "source": [
    "### Save the images of the deformation over time"
   ]
  },
  {
   "cell_type": "code",
   "execution_count": null,
   "id": "0fbc1fca",
   "metadata": {
    "scrolled": false
   },
   "outputs": [],
   "source": [
    "import matplotlib\n",
    "\n",
    "cmap = matplotlib.cm.get_cmap(\"cool\")\n",
    "\n",
    "colors = [cmap(u)[:-1] for u in np.linspace(0, 1, dcf.n_epochs + 1)]\n",
    "colors = (np.array(colors) * 255).astype(np.int32).tolist()\n",
    "\n",
    "tots = []\n",
    "imgs = []\n",
    "\n",
    "for i, contour in enumerate(contours):\n",
    "    contour_to_display = (np.expand_dims(contour, 1)).astype(int)\n",
    "\n",
    "    new_img = cv2.drawContours(\n",
    "        (((img / np.max(img)) * 255).astype(np.uint8)).copy(),\n",
    "        [contour_to_display],\n",
    "        0,\n",
    "        color=colors[0],\n",
    "        thickness=4,\n",
    "    )\n",
    "    plt.imsave(\n",
    "        os.path.join(\"folder_images_paper\", filename.split(\".\")[0] + str(i) + \".png\"),\n",
    "        new_img,\n",
    "    )"
   ]
  }
 ],
 "metadata": {
  "kernelspec": {
   "display_name": "Python 3 (ipykernel)",
   "language": "python",
   "name": "python3"
  },
  "language_info": {
   "codemirror_mode": {
    "name": "ipython",
    "version": 3
   },
   "file_extension": ".py",
   "mimetype": "text/x-python",
   "name": "python",
   "nbconvert_exporter": "python",
   "pygments_lexer": "ipython3",
   "version": "3.9.18"
  }
 },
 "nbformat": 4,
 "nbformat_minor": 5
}
