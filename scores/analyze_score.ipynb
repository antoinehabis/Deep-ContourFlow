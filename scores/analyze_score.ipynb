{
 "cells": [
  {
   "cell_type": "code",
   "execution_count": 1,
   "metadata": {},
   "outputs": [
    {
     "name": "stdout",
     "output_type": "stream",
     "text": [
      "[Errno 2] No such file or directory: 'Deep active contours'\n",
      "/home/ahabis/3-Deep_active_contour/scores\n"
     ]
    }
   ],
   "source": [
    "cd Deep-ContourFlow"
   ]
  },
  {
   "cell_type": "code",
   "execution_count": 103,
   "metadata": {},
   "outputs": [],
   "source": [
    "from ripser import ripser\n",
    "from persim import plot_diagrams\n",
    "import matplotlib.pyplot as plt\n",
    "from sklearn.metrics import balanced_accuracy_score, pairwise_distances\n",
    "from sklearn.linear_model import LinearRegression\n",
    "from radiomics import featureextractor\n",
    "# extractor = featureextractor.RadiomicsFeatureExtractor('glcm.yaml')\n",
    "import re\n",
    "import numpy as np\n",
    "import pandas as pd\n",
    "from operator import itemgetter\n",
    "from pyfeats import correlogram\n",
    "# from config import *\n",
    "from scipy.ndimage import distance_transform_edt"
   ]
  },
  {
   "cell_type": "code",
   "execution_count": 179,
   "metadata": {},
   "outputs": [],
   "source": [
    "def process_score(x):\n",
    "    x = re.sub(' +', ',',x)\n",
    "    x = x.replace('nan','0')\n",
    "    arr = np.array([1/(2**i) for i in range(5)])\n",
    "    arr = arr/np.sum(arr)\n",
    "    return np.dot(np.array(eval(x))[:-1],arr)\n",
    "eps = 1e-10\n",
    "THRESHOLD = 0.9693\n",
    "scores = pd.read_csv('scores.csv', index_col=0)\n",
    "scores['score'] = scores['score'].apply(process_score)\n",
    "scores['pred'] = (scores['score']>THRESHOLD).astype(int)\n",
    "scores['tp'] = scores['gt'] * scores['pred']\n",
    "scores['fp'] = (1 - scores['gt']) * scores['pred']\n",
    "scores['fn'] = scores['gt'] * (1 - scores['pred'])\n",
    "scores['tn'] = (1 - scores['gt']) * (1 - scores['pred'])\n",
    "\n",
    "nb_slides = len(np.unique(scores['slide']))\n",
    "precisions = np.zeros((nb_slides,10))\n",
    "recalls = np.zeros((nb_slides,10))\n",
    "ious = np.zeros((nb_slides,10))\n",
    "dices = np.zeros((nb_slides,10))\n",
    "pqs = np.zeros((nb_slides,10))\n",
    "f1s = np.zeros((nb_slides,10))\n",
    "\n",
    "for i, slide in enumerate(np.unique(scores['slide'])):\n",
    "    df_slide = scores[scores['slide'] == slide]\n",
    "    for j, nb_anchor in enumerate(np.unique(df_slide['nb_image'])):\n",
    "        df_anchor_slide = df_slide[df_slide['nb_image'] == nb_anchor]\n",
    "        gt = np.array(df_anchor_slide['gt'])\n",
    "        pred = np.array(df_anchor_slide['pred']).astype(int)\n",
    "        dice = np.array(df_anchor_slide['DICE(%)']).astype(float)\n",
    "        iou = np.array(df_anchor_slide['IOU(%)']).astype(float)\n",
    "        iou_tp = np.sum(iou*pred*gt)/np.sum(pred*gt)\n",
    "        dice_tp = np.sum(dice*pred*gt)/np.sum(pred*gt)\n",
    "        tp = df_anchor_slide['tp']\n",
    "        tn = df_anchor_slide['tn']\n",
    "        fp = df_anchor_slide['fp']\n",
    "        fn = df_anchor_slide['fn']\n",
    "        precision =   np.sum(tp) / (np.sum(tp) + np.sum(fp) + eps) \n",
    "        recall =   np.sum(tp) / (np.sum(tp) + np.sum(fn) + eps) \n",
    "        f1 = (2*precision*recall)/(precision + recall + eps)\n",
    "        precisions[i,j] = precision\n",
    "        recalls[i,j] = recall\n",
    "        dices[i,j] = dice_tp\n",
    "        ious[i,j] = iou_tp\n",
    "        pqs[i,j] = iou_tp * f1\n",
    "        f1s[i,j] =  f1\n",
    "\n",
    "final_f1 = np.mean(f1s)\n",
    "final_dices = np.mean(dices)\n",
    "final_recalls = np.mean(recalls)\n",
    "final_precisions = np.mean(precisions)\n",
    "final_pqs = np.mean(pqs)\n",
    "final_ious = np.mean(ious)\n"
   ]
  },
  {
   "cell_type": "code",
   "execution_count": 188,
   "metadata": {},
   "outputs": [
    {
     "name": "stdout",
     "output_type": "stream",
     "text": [
      "mean\n",
      "0.8800619974968596\n",
      "0.6974886826504103\n",
      "0.7608392334442536\n",
      "82.86958424513841\n",
      "71.99593853613902\n",
      "54.947808519864424\n",
      "max\n",
      "0.9910368448305913\n",
      "0.8572853072794174\n",
      "0.8643035611987647\n",
      "87.14322051401756\n",
      "77.8166935023582\n",
      "64.92233599507274\n",
      "min\n",
      "0.6288953367629216\n",
      "0.5931447113916725\n",
      "0.6430141352592887\n",
      "75.6912007264213\n",
      "62.39479337276703\n",
      "43.580531063259166\n",
      "std\n",
      "0.1122924401838886\n",
      "0.08416190483220418\n",
      "0.06689582800860532\n",
      "3.40501836483944\n",
      "4.586544991067897\n",
      "6.586031498248894\n"
     ]
    }
   ],
   "source": [
    "recalls.shape\n",
    "print('mean')\n",
    "print(np.mean(recalls))\n",
    "print(np.mean(precisions))\n",
    "print(np.mean(f1s))\n",
    "print(np.mean(dices))\n",
    "print(np.mean(ious))\n",
    "print(np.mean(pqs))\n",
    "\n",
    "print('max')\n",
    "print(np.mean(np.max(recalls,axis = -1)))\n",
    "print(np.mean(np.max(precisions,axis = -1)))\n",
    "print(np.mean(np.max(f1s,axis = -1)))\n",
    "print(np.mean(np.max(dices,axis = -1)))\n",
    "print(np.mean(np.max(ious,axis = -1)))\n",
    "print(np.mean(np.max(pqs,axis = -1)))\n",
    "\n",
    "print('min')\n",
    "\n",
    "print(np.mean(np.min(recalls,axis = -1)))\n",
    "print(np.mean(np.min(precisions,axis = -1)))\n",
    "print(np.mean(np.min(f1s,axis = -1)))\n",
    "print(np.mean(np.min(dices,axis = -1)))\n",
    "print(np.mean(np.min(ious,axis = -1)))\n",
    "print(np.mean(np.min(pqs,axis = -1)))\n",
    "\n",
    "print('std')\n",
    "print(np.mean(np.std(recalls,axis = -1)))\n",
    "print(np.mean(np.std(precisions,axis = -1)))\n",
    "print(np.mean(np.std(f1s,axis = -1)))\n",
    "print(np.mean(np.std(dices,axis = -1)))\n",
    "print(np.mean(np.std(ious,axis = -1)))\n",
    "print(np.mean(np.std(pqs,axis = -1)))"
   ]
  },
  {
   "cell_type": "code",
   "execution_count": null,
   "metadata": {},
   "outputs": [],
   "source": []
  }
 ],
 "metadata": {
  "kernelspec": {
   "display_name": "Python 3 (ipykernel)",
   "language": "python",
   "name": "python3"
  },
  "orig_nbformat": 4
 },
 "nbformat": 4,
 "nbformat_minor": 2
}
